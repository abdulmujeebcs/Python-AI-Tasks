{
 "cells": [
  {
   "cell_type": "code",
   "execution_count": 4,
   "metadata": {},
   "outputs": [
    {
     "name": "stdout",
     "output_type": "stream",
     "text": [
      "Accuracy of model:  0.5\n",
      "predicted val:  [1]\n"
     ]
    }
   ],
   "source": [
    "from sklearn.naive_bayes import GaussianNB , MultinomialNB\n",
    "from sklearn.model_selection import train_test_split\n",
    "from sklearn.metrics import accuracy_score\n",
    "import numpy as np\n",
    "import pandas as pd\n",
    "\n",
    "#load data\n",
    "tannisData = pd.read_csv('C:/Users/Mujeeb/Desktop/python labs/dataset/PlayTennis.csv')\n",
    "\n",
    "#Make dictionary table\n",
    "outlook = {'Sunny':0, 'Overcast':1, 'Rain':2}\n",
    "temperature = {'Hot':0, 'Mild':1, 'Cool':2}\n",
    "humidity = {'High':0, 'Normal':1}\n",
    "wind = {'Weak':0, 'Strong':1}\n",
    "playTennis = {'Yes':1, 'No':0}\n",
    "\n",
    "#convert catagorical data into numerical\n",
    "for data in tannisData.iloc:\n",
    "    data['Outlook'] = outlook[data['Outlook']]\n",
    "    data['Temperature'] = temperature[data['Temperature']]\n",
    "    data['Humidity'] = humidity[data['Humidity']]\n",
    "    data['Wind'] = wind[data['Wind']]\n",
    "    data['Play Tennis'] = playTennis[data['Play Tennis']]\n",
    "\n",
    "tannisData = tannisData.astype('int')\n",
    "\n",
    "X = tannisData[['Outlook', 'Temperature', 'Humidity', 'Wind']]\n",
    "Y = tannisData['Play Tennis']\n",
    "\n",
    "x_train, x_test, y_train, y_test = train_test_split(X,Y, test_size=0.1, random_state = 555)\n",
    "\n",
    "#Create a Gaussian Classifier\n",
    "model = GaussianNB()\n",
    "\n",
    "# Train the model using the training sets \n",
    "model.fit(x_train, y_train)\n",
    "\n",
    "#Predict Output\n",
    "predicted= model.predict(x_test)\n",
    "\n",
    "#calculate accuracy\n",
    "print('Accuracy of model: ', accuracy_score(y_test,predicted))\n",
    "\n",
    "\n",
    "#predict new value\n",
    "newVal = ['Sunny','Cool','Normal', 'Strong']\n",
    "\n",
    "newVal[0] = outlook[newVal[0]]\n",
    "newVal[1] = temperature[newVal[1]]\n",
    "newVal[2] = humidity[newVal[2]]\n",
    "newVal[3] = wind[newVal[3]]\n",
    "\n",
    "newVal = np.array(newVal,np.int)\n",
    "\n",
    "print(\"predicted val: \",model.predict([newVal]))\n"
   ]
  },
  {
   "cell_type": "code",
   "execution_count": null,
   "metadata": {},
   "outputs": [],
   "source": []
  }
 ],
 "metadata": {
  "kernelspec": {
   "display_name": "Python 3",
   "language": "python",
   "name": "python3"
  },
  "language_info": {
   "codemirror_mode": {
    "name": "ipython",
    "version": 3
   },
   "file_extension": ".py",
   "mimetype": "text/x-python",
   "name": "python",
   "nbconvert_exporter": "python",
   "pygments_lexer": "ipython3",
   "version": "3.8.3"
  }
 },
 "nbformat": 4,
 "nbformat_minor": 4
}
