{
 "cells": [
  {
   "cell_type": "code",
   "execution_count": 15,
   "metadata": {},
   "outputs": [
    {
     "ename": "SyntaxError",
     "evalue": "invalid syntax (<ipython-input-15-8c09708614df>, line 57)",
     "output_type": "error",
     "traceback": [
      "\u001b[1;36m  File \u001b[1;32m\"<ipython-input-15-8c09708614df>\"\u001b[1;36m, line \u001b[1;32m57\u001b[0m\n\u001b[1;33m    plt.xlabel('Price in 10,000's)\u001b[0m\n\u001b[1;37m                                ^\u001b[0m\n\u001b[1;31mSyntaxError\u001b[0m\u001b[1;31m:\u001b[0m invalid syntax\n"
     ]
    }
   ],
   "source": [
    "import numpy as np\n",
    "import matplotlib.pyplot as plt\n",
    "import pandas as pd\n",
    "\n",
    "data = pd.read_csv(\"dataset/salesdata.txt\", names = ['population','price'])\n",
    "data\n",
    "X_df = pd.DataFrame(data.population)\n",
    "y_df = pd.DataFrame(data.price)\n",
    "m = len(y_df)\n",
    "\n",
    "plt.figure(figsize=(10,10))\n",
    "plt.plot(X_df, y_df, 'kx')\n",
    "plt.xlabel('Years of Experience')\n",
    "plt.ylabel('Salary')\n",
    "\n",
    "iter = 1000\n",
    "alpha = 0.01\n",
    "\n",
    "X_df['intercept'] = 1\n",
    "\n",
    "X = np.array(X_df)\n",
    "y = np.array(y_df).flatten()\n",
    "theta = np.array([0, 0])\n",
    "\n",
    "def cost_function(X, y, theta):\n",
    "    m = len(y) \n",
    "    ## Calculate the cost with the given parameters\n",
    "    J = np.sum((X.dot(theta)-y)**2)/2/m\n",
    "    return J\n",
    "\n",
    "cost_function(X, y, theta)\n",
    "\n",
    "def gradient_descent(X, y, theta, alpha, iterations):\n",
    "    cost_history = [0] * iterations\n",
    "    for iteration in range(iterations):\n",
    "        hypothesis = X.dot(theta)\n",
    "        loss = hypothesis-y\n",
    "        gradient = X.T.dot(loss)/m\n",
    "        theta = theta - alpha*gradient\n",
    "        cost = cost_function(X, y, theta)\n",
    "        cost_history[iteration] = cost\n",
    "\n",
    "    return theta, cost_history\n",
    "\n",
    "gd = gradient_descent(X,y,theta,alpha, iter)\n",
    "\n",
    "t=gd[0]\n",
    "best_fit_x = np.linspace(0, 10, 20)\n",
    "\n",
    "best_fit_y = [t[1] + t[0]*xx for xx in best_fit_x]\n",
    "\n",
    "print('Optimized Parameters:',t)\n",
    "\n",
    "plt.figure(figsize=(10,10))\n",
    "plt.plot(X_df.population, y_df, '.')\n",
    "plt.plot(best_fit_x, best_fit_y, '-')\n",
    "plt.xlabel('Price in 10,000s')\n",
    "plt.xlabel('House Size sq.ft')\n",
    "plt.ylabel('Price')\n",
    "plt.show()\n"
   ]
  },
  {
   "cell_type": "code",
   "execution_count": null,
   "metadata": {},
   "outputs": [],
   "source": []
  }
 ],
 "metadata": {
  "kernelspec": {
   "display_name": "Python 3",
   "language": "python",
   "name": "python3"
  },
  "language_info": {
   "codemirror_mode": {
    "name": "ipython",
    "version": 3
   },
   "file_extension": ".py",
   "mimetype": "text/x-python",
   "name": "python",
   "nbconvert_exporter": "python",
   "pygments_lexer": "ipython3",
   "version": "3.8.3"
  }
 },
 "nbformat": 4,
 "nbformat_minor": 4
}
