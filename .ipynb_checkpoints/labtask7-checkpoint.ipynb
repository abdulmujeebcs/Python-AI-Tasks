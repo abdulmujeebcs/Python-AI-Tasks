{
 "cells": [
  {
   "cell_type": "code",
   "execution_count": 5,
   "metadata": {},
   "outputs": [],
   "source": [
    "# EP1850001 ABDUL MUJEEB\n",
    "from sklearn.metrics import confusion_matrix\n",
    "from sklearn.metrics import accuracy_score\n",
    "from sklearn.metrics import classification_report\n",
    "from sklearn.metrics import roc_auc_score\n",
    "from sklearn.metrics import log_loss\n",
    "\n",
    "confusion_matrix = [[50,10],[5,100]]\n",
    "TP = confusion_matrix[0][0]\n",
    "FP = confusion_matrix[0][1]\n",
    "FN = confusion_matrix[1][0]\n",
    "TN = confusion_matrix[1][1]"
   ]
  },
  {
   "cell_type": "code",
   "execution_count": 11,
   "metadata": {},
   "outputs": [],
   "source": [
    "accuracy = (TP+TN) / (TP+FP+FN+TN)\n",
    "precision = TP / TP+FP\n",
    "recall = TP / (TP+FN)\n",
    "specificity = TN / (TN + FP)\n",
    "F1score = (recall*precision) / (precision + recall)"
   ]
  },
  {
   "cell_type": "code",
   "execution_count": 12,
   "metadata": {},
   "outputs": [
    {
     "name": "stdout",
     "output_type": "stream",
     "text": [
      "Accuracy  0.9090909090909091\n",
      "precision :  11.0\n",
      "recall :  0.9090909090909091\n",
      "specificity :  0.9090909090909091\n",
      "F1score :  0.8396946564885497\n"
     ]
    }
   ],
   "source": [
    "print ('Accuracy ',accuracy)\n",
    "print ('precision : ',precision)\n",
    "print ('recall : ',recall)\n",
    "print ('specificity : ',specificity)\n",
    "print ('F1score : ',F1score)\n"
   ]
  },
  {
   "cell_type": "code",
   "execution_count": null,
   "metadata": {},
   "outputs": [],
   "source": []
  }
 ],
 "metadata": {
  "kernelspec": {
   "display_name": "Python 3",
   "language": "python",
   "name": "python3"
  },
  "language_info": {
   "codemirror_mode": {
    "name": "ipython",
    "version": 3
   },
   "file_extension": ".py",
   "mimetype": "text/x-python",
   "name": "python",
   "nbconvert_exporter": "python",
   "pygments_lexer": "ipython3",
   "version": "3.8.3"
  }
 },
 "nbformat": 4,
 "nbformat_minor": 4
}
